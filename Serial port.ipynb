{
 "cells": [
  {
   "cell_type": "code",
   "execution_count": 1,
   "metadata": {},
   "outputs": [
    {
     "ename": "KeyboardInterrupt",
     "evalue": "",
     "output_type": "error",
     "traceback": [
      "\u001b[1;31m---------------------------------------------------------------------------\u001b[0m",
      "\u001b[1;31mKeyboardInterrupt\u001b[0m                         Traceback (most recent call last)",
      "Cell \u001b[1;32mIn[1], line 64\u001b[0m\n\u001b[0;32m     60\u001b[0m             collected_values_string \u001b[38;5;241m+\u001b[39m\u001b[38;5;241m=\u001b[39m data\u001b[38;5;241m.\u001b[39mdecode()    \n\u001b[0;32m     63\u001b[0m         \u001b[38;5;66;03m# Delay to wait for all processes to finish before next loop\u001b[39;00m\n\u001b[1;32m---> 64\u001b[0m         \u001b[43mtime\u001b[49m\u001b[38;5;241;43m.\u001b[39;49m\u001b[43msleep\u001b[49m\u001b[43m(\u001b[49m\u001b[38;5;241;43m0.01\u001b[39;49m\u001b[43m)\u001b[49m\n\u001b[0;32m     66\u001b[0m \u001b[38;5;28;01mexcept\u001b[39;00m \u001b[38;5;167;01mException\u001b[39;00m \u001b[38;5;28;01mas\u001b[39;00m e:\n\u001b[0;32m     67\u001b[0m     \u001b[38;5;28mprint\u001b[39m(\u001b[38;5;124m\"\u001b[39m\u001b[38;5;124mError:\u001b[39m\u001b[38;5;124m\"\u001b[39m, e)\n",
      "\u001b[1;31mKeyboardInterrupt\u001b[0m: "
     ]
    }
   ],
   "source": [
    "import serial\n",
    "import time\n",
    "import sys\n",
    "import matplotlib.pyplot as plt\n",
    "\n",
    "# Defining the Serial Port Specs\n",
    "com_port = 'COM8'  \n",
    "baudrate = 115200 \n",
    "\n",
    "# Starting the serial communication\n",
    "ser = serial.Serial(com_port, baudrate, timeout=0)\n",
    "\n",
    "collected_values_string = \"\"\n",
    "collect_status=0\n",
    "\n",
    "# This loop is to ensure there is no error in establishing and maintaining the serial port connection\n",
    "try:\n",
    "    # Looping continuously read data from the serial port\n",
    "    while True:\n",
    "        # Receiving data from the serial port\n",
    "        data = ser.readline()\n",
    "\n",
    "        # Uncomment the below 2 lines if data received needs to be printed\n",
    "        #if data:\n",
    "        #     print(data)\n",
    "        if collect_status == 2:\n",
    "            print(data)\n",
    "\n",
    "\n",
    "\n",
    "        # Once the start bit has been detecting change status to start collecting data\n",
    "        if data == b'st\\r\\n':\n",
    "            print(\"Start bit detected, starting to collect data\")\n",
    "            collect_status = 1\n",
    "        \n",
    "        # If stop bit is received, stop collecting data and plot the graph\n",
    "        elif data == b'sp\\r\\n':\n",
    "            print(\"Stop command received. Stop collecting data.\")\n",
    "            collect_status = 2\n",
    "            \n",
    "            \n",
    "            # Split collected values string into a list of numbers\n",
    "            num_list = collected_values_string.split()\n",
    "            print(num_list)\n",
    "            # Convert the list of strings into a list of floats\n",
    "            x_val = [int(num) for num in num_list]\n",
    "\n",
    "            #Graph code\n",
    "            plt.plot(x_val)\n",
    "            plt.xlabel('Sample Number')\n",
    "            plt.ylabel('Match Filter Values')\n",
    "            plt.title('Plot of Match Filter Results')\n",
    "            plt.grid(True)\n",
    "            plt.show()\n",
    "            collected_values_string = \"\"\n",
    "            \n",
    "\n",
    "        # If collecting status is 1, collect data\n",
    "        elif collect_status == 1:\n",
    "            collected_values_string += data.decode()    \n",
    "\n",
    "            \n",
    "        # Delay to wait for all processes to finish before next loop\n",
    "        time.sleep(0.01)\n",
    "        \n",
    "except Exception as errormsg:\n",
    "    print(\"Error:\", errormsg)\n",
    "\n",
    "finally:\n",
    "    # Closing the serial port\n",
    "    ser.close()\n"
   ]
  }
 ],
 "metadata": {
  "kernelspec": {
   "display_name": "Python 3",
   "language": "python",
   "name": "python3"
  },
  "language_info": {
   "codemirror_mode": {
    "name": "ipython",
    "version": 3
   },
   "file_extension": ".py",
   "mimetype": "text/x-python",
   "name": "python",
   "nbconvert_exporter": "python",
   "pygments_lexer": "ipython3",
   "version": "3.11.6"
  }
 },
 "nbformat": 4,
 "nbformat_minor": 2
}
